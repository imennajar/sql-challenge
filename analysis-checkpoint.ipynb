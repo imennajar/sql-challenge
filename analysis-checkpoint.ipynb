{
 "cells": [
  {
   "cell_type": "raw",
   "id": "6fade735",
   "metadata": {},
   "source": [
    "--List the employee number, last name, first name, sex, and salary of each employee--\n",
    "SELECT e.emp_no,last_name,first_name,sex,salary \n",
    "FROM employees e, salaries s\n",
    "WHERE s.emp_no=e.emp_no;"
   ]
  },
  {
   "cell_type": "raw",
   "id": "aabde0ee",
   "metadata": {},
   "source": [
    "--List the first name, last name, and hire date for the employees who were hired in 1986--\n",
    "SELECT first_name,last_name, hire_date FROM employees\n",
    "WHERE EXTRACT (YEAR FROM hire_date)='1986';\n",
    "\n"
   ]
  },
  {
   "cell_type": "raw",
   "id": "7cf02347",
   "metadata": {},
   "source": [
    "--List the manager of each department along with their department number, department name, employee number, last name, and first name--\n",
    "SELECT d.dept_no,dept_name,e.emp_no,last_name,first_name\n",
    "FROM departments d, employees e, dept_manager dm\n",
    "WHERE (d.dept_no=dm.dept_no)AND (e.emp_no=dm.emp_no);\n"
   ]
  },
  {
   "cell_type": "raw",
   "id": "d00d4ce3",
   "metadata": {},
   "source": [
    "--List the department number for each employee along with that employee’s employee number, last name, first name, and department name--\n",
    "SELECT e.emp_no,d.dept_no,last_name,first_name,dept_name \n",
    "FROM departments d, employees e, dept_emp de\n",
    "WHERE (d.dept_no=de.dept_no)and (e.emp_no=de.emp_no);"
   ]
  },
  {
   "cell_type": "raw",
   "id": "4233a3a6",
   "metadata": {},
   "source": [
    "--List first name, last name, and sex of each employee whose first name is Hercules and whose last name begins with the letter B--\n",
    "SELECT first_name,last_name,sex \n",
    "FROM employees\n",
    "WHERE (first_name='Hercules') AND (last_name LIKE 'B%');\n"
   ]
  },
  {
   "cell_type": "raw",
   "id": "ad7f6f50",
   "metadata": {},
   "source": [
    "--List each employee in the Sales department, including their employee number, last name, and first name--\n",
    "SELECT e.emp_no,last_name,first_name\n",
    "FROM departments d, employees e, dept_emp de\n",
    "WHERE (d.dept_no=de.dept_no)AND (e.emp_no=de.emp_no)AND (dept_name='Sales');"
   ]
  },
  {
   "cell_type": "raw",
   "id": "e4759a60",
   "metadata": {},
   "source": [
    "--List each employee in the Sales and Development departments, including their employee number, last name, first name, and department name--\n",
    "SELECT e.emp_no,last_name,first_name,dept_name\n",
    "FROM departments d, employees e, dept_emp de\n",
    "WHERE (d.dept_no=de.dept_no)AND (e.emp_no=de.emp_no)AND ((dept_name='Sales')OR(dept_name='Development'));"
   ]
  },
  {
   "cell_type": "raw",
   "id": "b1e4d0df",
   "metadata": {},
   "source": [
    "--List the frequency counts, in descending order, of all the employee last names (that is, how many employees share each last name)--\n",
    "SELECT last_name, COUNT(last_name) FROM employees \n",
    "group by last_name\n",
    "order by last_name;"
   ]
  }
 ],
 "metadata": {
  "kernelspec": {
   "display_name": "Python 3 (ipykernel)",
   "language": "python",
   "name": "python3"
  },
  "language_info": {
   "codemirror_mode": {
    "name": "ipython",
    "version": 3
   },
   "file_extension": ".py",
   "mimetype": "text/x-python",
   "name": "python",
   "nbconvert_exporter": "python",
   "pygments_lexer": "ipython3",
   "version": "3.10.9"
  }
 },
 "nbformat": 4,
 "nbformat_minor": 5
}
